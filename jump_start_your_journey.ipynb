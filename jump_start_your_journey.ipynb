{
 "cells": [
  {
   "cell_type": "code",
   "execution_count": 1,
   "id": "e4b5d0cc-f1a0-45b8-be92-47cf464ebd54",
   "metadata": {},
   "outputs": [],
   "source": [
    "import pandas as pd\n",
    "from src.ticket_messages import TicketMessage\n",
    "\n",
    "import itertools\n",
    "import numpy as np"
   ]
  },
  {
   "cell_type": "code",
   "execution_count": 2,
   "id": "69209acf-ecd6-4f04-b8d5-c6501dd4f958",
   "metadata": {},
   "outputs": [],
   "source": [
    "df = pd.read_parquet(\"data/classification_dataset\")"
   ]
  },
  {
   "cell_type": "code",
   "execution_count": 3,
   "id": "a7519f8f-b1b8-42e0-8509-3bd630982bac",
   "metadata": {},
   "outputs": [
    {
     "data": {
      "text/html": [
       "<div>\n",
       "<style scoped>\n",
       "    .dataframe tbody tr th:only-of-type {\n",
       "        vertical-align: middle;\n",
       "    }\n",
       "\n",
       "    .dataframe tbody tr th {\n",
       "        vertical-align: top;\n",
       "    }\n",
       "\n",
       "    .dataframe thead th {\n",
       "        text-align: right;\n",
       "    }\n",
       "</style>\n",
       "<table border=\"1\" class=\"dataframe\">\n",
       "  <thead>\n",
       "    <tr style=\"text-align: right;\">\n",
       "      <th></th>\n",
       "      <th>account_id</th>\n",
       "      <th>ticket_id</th>\n",
       "      <th>raw_body</th>\n",
       "      <th>channel</th>\n",
       "      <th>unix_timestamp</th>\n",
       "      <th>contact_reason</th>\n",
       "      <th>processed_body</th>\n",
       "      <th>email_sentence_embeddings</th>\n",
       "    </tr>\n",
       "  </thead>\n",
       "  <tbody>\n",
       "    <tr>\n",
       "      <th>56167</th>\n",
       "      <td>47355</td>\n",
       "      <td>97704266</td>\n",
       "      <td>-7329393197999221857</td>\n",
       "      <td>email</td>\n",
       "      <td>1.683747e+09</td>\n",
       "      <td>\"Pre-sale::Place an order\"</td>\n",
       "      <td>7769862566240229096</td>\n",
       "      <td>{\"7076610397638084948\": [0.04829759523272514, ...</td>\n",
       "    </tr>\n",
       "    <tr>\n",
       "      <th>56168</th>\n",
       "      <td>47355</td>\n",
       "      <td>97104492</td>\n",
       "      <td>-712526401448959206</td>\n",
       "      <td>email</td>\n",
       "      <td>1.683821e+09</td>\n",
       "      <td>\"No Action Req::Others\"</td>\n",
       "      <td>8225526187121867386</td>\n",
       "      <td>{\"-4707052099692602634\": [0.04418250918388367,...</td>\n",
       "    </tr>\n",
       "    <tr>\n",
       "      <th>56169</th>\n",
       "      <td>47355</td>\n",
       "      <td>98114244</td>\n",
       "      <td>-6396575246795551664</td>\n",
       "      <td>email</td>\n",
       "      <td>1.683823e+09</td>\n",
       "      <td>\"No Action Req::Others\"</td>\n",
       "      <td>0</td>\n",
       "      <td>None</td>\n",
       "    </tr>\n",
       "    <tr>\n",
       "      <th>56170</th>\n",
       "      <td>47355</td>\n",
       "      <td>98375668</td>\n",
       "      <td>8956876459394868202</td>\n",
       "      <td>email</td>\n",
       "      <td>1.684164e+09</td>\n",
       "      <td>\"Tech Supp::Tech_Query\"</td>\n",
       "      <td>4884952985295307657</td>\n",
       "      <td>{\"-6790423425691970518\": [-0.10473562777042389...</td>\n",
       "    </tr>\n",
       "    <tr>\n",
       "      <th>56171</th>\n",
       "      <td>47355</td>\n",
       "      <td>98834917</td>\n",
       "      <td>3230166170796936168</td>\n",
       "      <td>email</td>\n",
       "      <td>1.684271e+09</td>\n",
       "      <td>\"Shipping::Tracking\"</td>\n",
       "      <td>1023372247625818182</td>\n",
       "      <td>{\"1824102601729972162\": [-0.02185063622891903,...</td>\n",
       "    </tr>\n",
       "  </tbody>\n",
       "</table>\n",
       "</div>"
      ],
      "text/plain": [
       "      account_id ticket_id             raw_body channel  unix_timestamp   \n",
       "56167      47355  97704266 -7329393197999221857   email    1.683747e+09  \\\n",
       "56168      47355  97104492  -712526401448959206   email    1.683821e+09   \n",
       "56169      47355  98114244 -6396575246795551664   email    1.683823e+09   \n",
       "56170      47355  98375668  8956876459394868202   email    1.684164e+09   \n",
       "56171      47355  98834917  3230166170796936168   email    1.684271e+09   \n",
       "\n",
       "                   contact_reason       processed_body   \n",
       "56167  \"Pre-sale::Place an order\"  7769862566240229096  \\\n",
       "56168     \"No Action Req::Others\"  8225526187121867386   \n",
       "56169     \"No Action Req::Others\"                    0   \n",
       "56170     \"Tech Supp::Tech_Query\"  4884952985295307657   \n",
       "56171        \"Shipping::Tracking\"  1023372247625818182   \n",
       "\n",
       "                               email_sentence_embeddings  \n",
       "56167  {\"7076610397638084948\": [0.04829759523272514, ...  \n",
       "56168  {\"-4707052099692602634\": [0.04418250918388367,...  \n",
       "56169                                               None  \n",
       "56170  {\"-6790423425691970518\": [-0.10473562777042389...  \n",
       "56171  {\"1824102601729972162\": [-0.02185063622891903,...  "
      ]
     },
     "execution_count": 3,
     "metadata": {},
     "output_type": "execute_result"
    }
   ],
   "source": [
    "df.tail()"
   ]
  },
  {
   "cell_type": "code",
   "execution_count": 4,
   "id": "762281a6-eb4b-4a32-8757-70b784b20c54",
   "metadata": {},
   "outputs": [],
   "source": [
    "ticket_message_list = TicketMessage.from_dataframe(dataframe=df)"
   ]
  },
  {
   "cell_type": "code",
   "execution_count": 5,
   "id": "c6f32b04-8b66-47c2-bdc0-dc674ab0af3c",
   "metadata": {},
   "outputs": [
    {
     "name": "stdout",
     "output_type": "stream",
     "text": [
      "Account id = 4453\n",
      "Ticket id = 375526423\n",
      "Contact Reason =  \"Post-purchase::Other::Other\"\n",
      "Number of sentences in email =  3\n"
     ]
    }
   ],
   "source": [
    "i = 13524\n",
    "\n",
    "print(f\"Account id = {ticket_message_list[i].account_id}\")\n",
    "print(f\"Ticket id = {ticket_message_list[i].ticket_id}\")\n",
    "print(f\"Contact Reason = \", ticket_message_list[i].contact_reason)\n",
    "if ticket_message_list[i].email_sentence_embeddings:\n",
    "    print(f\"Number of sentences in email = \", len(ticket_message_list[i].email_sentence_embeddings))\n",
    "else:\n",
    "    print(f\"Number of sentences in email = \", 0)"
   ]
  },
  {
   "cell_type": "markdown",
   "id": "8feb8128-2ae1-4eba-96e0-dc59b6f783a8",
   "metadata": {},
   "source": [
    "# Investigate data"
   ]
  },
  {
   "cell_type": "code",
   "execution_count": 6,
   "id": "2c097501-62c9-4567-81de-8f3185742477",
   "metadata": {},
   "outputs": [
    {
     "data": {
      "text/html": [
       "<div>\n",
       "<style scoped>\n",
       "    .dataframe tbody tr th:only-of-type {\n",
       "        vertical-align: middle;\n",
       "    }\n",
       "\n",
       "    .dataframe tbody tr th {\n",
       "        vertical-align: top;\n",
       "    }\n",
       "\n",
       "    .dataframe thead th {\n",
       "        text-align: right;\n",
       "    }\n",
       "</style>\n",
       "<table border=\"1\" class=\"dataframe\">\n",
       "  <thead>\n",
       "    <tr style=\"text-align: right;\">\n",
       "      <th></th>\n",
       "      <th>account_id</th>\n",
       "      <th>ticket_id</th>\n",
       "      <th>raw_body</th>\n",
       "      <th>channel</th>\n",
       "      <th>unix_timestamp</th>\n",
       "      <th>contact_reason</th>\n",
       "      <th>processed_body</th>\n",
       "      <th>email_sentence_embeddings</th>\n",
       "    </tr>\n",
       "  </thead>\n",
       "  <tbody>\n",
       "    <tr>\n",
       "      <th>0</th>\n",
       "      <td>85684</td>\n",
       "      <td>6272673</td>\n",
       "      <td>9200394132716385379</td>\n",
       "      <td>email</td>\n",
       "      <td>1.681736e+09</td>\n",
       "      <td>\"Product Question\"</td>\n",
       "      <td>9200394132716385379</td>\n",
       "      <td>None</td>\n",
       "    </tr>\n",
       "    <tr>\n",
       "      <th>1</th>\n",
       "      <td>85684</td>\n",
       "      <td>6278905</td>\n",
       "      <td>9200394132716385379</td>\n",
       "      <td>email</td>\n",
       "      <td>1.681736e+09</td>\n",
       "      <td>\"Order Status\"</td>\n",
       "      <td>9200394132716385379</td>\n",
       "      <td>None</td>\n",
       "    </tr>\n",
       "    <tr>\n",
       "      <th>2</th>\n",
       "      <td>85684</td>\n",
       "      <td>6287414</td>\n",
       "      <td>9200394132716385379</td>\n",
       "      <td>email</td>\n",
       "      <td>1.681736e+09</td>\n",
       "      <td>\"Order Status\"</td>\n",
       "      <td>9200394132716385379</td>\n",
       "      <td>None</td>\n",
       "    </tr>\n",
       "    <tr>\n",
       "      <th>3</th>\n",
       "      <td>85684</td>\n",
       "      <td>6258041</td>\n",
       "      <td>9200394132716385379</td>\n",
       "      <td>email</td>\n",
       "      <td>1.681737e+09</td>\n",
       "      <td>\"Order Status\"</td>\n",
       "      <td>9200394132716385379</td>\n",
       "      <td>None</td>\n",
       "    </tr>\n",
       "    <tr>\n",
       "      <th>4</th>\n",
       "      <td>85684</td>\n",
       "      <td>6273608</td>\n",
       "      <td>9200394132716385379</td>\n",
       "      <td>email</td>\n",
       "      <td>1.681736e+09</td>\n",
       "      <td>\"Product Question\"</td>\n",
       "      <td>9200394132716385379</td>\n",
       "      <td>None</td>\n",
       "    </tr>\n",
       "  </tbody>\n",
       "</table>\n",
       "</div>"
      ],
      "text/plain": [
       "  account_id ticket_id             raw_body channel  unix_timestamp   \n",
       "0      85684   6272673  9200394132716385379   email    1.681736e+09  \\\n",
       "1      85684   6278905  9200394132716385379   email    1.681736e+09   \n",
       "2      85684   6287414  9200394132716385379   email    1.681736e+09   \n",
       "3      85684   6258041  9200394132716385379   email    1.681737e+09   \n",
       "4      85684   6273608  9200394132716385379   email    1.681736e+09   \n",
       "\n",
       "       contact_reason       processed_body email_sentence_embeddings  \n",
       "0  \"Product Question\"  9200394132716385379                      None  \n",
       "1      \"Order Status\"  9200394132716385379                      None  \n",
       "2      \"Order Status\"  9200394132716385379                      None  \n",
       "3      \"Order Status\"  9200394132716385379                      None  \n",
       "4  \"Product Question\"  9200394132716385379                      None  "
      ]
     },
     "execution_count": 6,
     "metadata": {},
     "output_type": "execute_result"
    }
   ],
   "source": [
    "df.head()"
   ]
  },
  {
   "cell_type": "markdown",
   "id": "8797a849-86e3-4575-8c7c-835baec8c17b",
   "metadata": {},
   "source": [
    "We see that some tickets have NaN for `email_sentence_embeddings`, therefore we will not be able to process them. Let's count the number of such tickets and filter them out."
   ]
  },
  {
   "cell_type": "code",
   "execution_count": 7,
   "id": "8b128818-913b-4b22-b50a-7c3f738688c4",
   "metadata": {},
   "outputs": [
    {
     "data": {
      "text/plain": [
       "email_sentence_embeddings\n",
       "False    50719\n",
       "True      5453\n",
       "Name: count, dtype: int64"
      ]
     },
     "execution_count": 7,
     "metadata": {},
     "output_type": "execute_result"
    }
   ],
   "source": [
    "df['email_sentence_embeddings'].isna().value_counts()"
   ]
  },
  {
   "cell_type": "markdown",
   "id": "65fac37d-790c-4875-b2f9-ecfc9e609049",
   "metadata": {},
   "source": [
    "~10% of dataset has empty `email_sentence_embeddings` field"
   ]
  },
  {
   "cell_type": "code",
   "execution_count": 8,
   "id": "86f89078-9c02-47f1-990d-9382d7fb38a9",
   "metadata": {},
   "outputs": [],
   "source": [
    "df_not_na_email = df[~df['email_sentence_embeddings'].isna()]"
   ]
  },
  {
   "cell_type": "markdown",
   "id": "d1d5ed9a-91a4-4fe2-bdcc-9bc9f1583abd",
   "metadata": {},
   "source": [
    "## First look at target column: contact_reason, counting targets"
   ]
  },
  {
   "cell_type": "code",
   "execution_count": 9,
   "id": "716a06cd-ff8a-474b-b1e4-ee8409c8f513",
   "metadata": {},
   "outputs": [
    {
     "data": {
      "text/plain": [
       "45                  \"Order::Change\"\n",
       "46           \"Subscription::Cancel\"\n",
       "47                 \"Enquiry::Other\"\n",
       "48           \"Subscription::Cancel\"\n",
       "51                 \"Not Applicable\"\n",
       "                    ...            \n",
       "56166             \"Shipping::Delay\"\n",
       "56167    \"Pre-sale::Place an order\"\n",
       "56168       \"No Action Req::Others\"\n",
       "56170       \"Tech Supp::Tech_Query\"\n",
       "56171          \"Shipping::Tracking\"\n",
       "Name: contact_reason, Length: 50719, dtype: object"
      ]
     },
     "execution_count": 9,
     "metadata": {},
     "output_type": "execute_result"
    }
   ],
   "source": [
    "df_not_na_email['contact_reason']"
   ]
  },
  {
   "cell_type": "markdown",
   "id": "1d3ebd61-ec5d-43fe-84d5-82987354ebfe",
   "metadata": {},
   "source": [
    "Contact reason format: \"\\<reason_1\\>::\\<reason_2\\>::...::\\<reason_N\\>\". It will require splitting the initial \"contact_reason\" field.\n",
    "\n",
    "Let us look at number of reasons in their initial form and after splitting:"
   ]
  },
  {
   "cell_type": "code",
   "execution_count": 10,
   "id": "56b29dd3-a14e-43cd-85dc-0d45d0080f37",
   "metadata": {},
   "outputs": [
    {
     "name": "stdout",
     "output_type": "stream",
     "text": [
      "Number of unique contact reasons in initial form: 1707\n"
     ]
    }
   ],
   "source": [
    "print(f\"Number of unique contact reasons in initial form: {df_not_na_email['contact_reason'].unique().shape[0]}\")"
   ]
  },
  {
   "cell_type": "code",
   "execution_count": 11,
   "id": "66ce5398-23dd-4766-be88-e00aa68cc9ee",
   "metadata": {},
   "outputs": [],
   "source": [
    "# function to convert initial contact_reason string into list of reasons\n",
    "line_to_list_of_reasons=lambda line: [i.strip() for i in line.lower().replace('\"', '').split('::')]"
   ]
  },
  {
   "cell_type": "code",
   "execution_count": 12,
   "id": "f00646f0-4ccc-4592-a7bf-d56fd82d81ed",
   "metadata": {},
   "outputs": [],
   "source": [
    "df_reason_values = df_not_na_email['contact_reason'].apply(line_to_list_of_reasons).values\n",
    "split_reasons_list = list(itertools.chain.from_iterable(df_reason_values))\n",
    "unique_reasons = set(split_reasons_list)"
   ]
  },
  {
   "cell_type": "code",
   "execution_count": 13,
   "id": "d0b04157-613d-491f-b042-dcdc5947495b",
   "metadata": {},
   "outputs": [
    {
     "name": "stdout",
     "output_type": "stream",
     "text": [
      "Number of unique processed conctact reasons: 1455\n"
     ]
    }
   ],
   "source": [
    "print(f\"Number of unique processed conctact reasons: {len(unique_reasons)}\")"
   ]
  },
  {
   "cell_type": "markdown",
   "id": "d1ab3423-6901-4373-ad3c-613acf62f59a",
   "metadata": {},
   "source": [
    "## First look at account_id column"
   ]
  },
  {
   "cell_type": "code",
   "execution_count": 14,
   "id": "e158a996-cde6-47d9-9d7b-9dc8f543524b",
   "metadata": {},
   "outputs": [
    {
     "name": "stdout",
     "output_type": "stream",
     "text": [
      "Number of merchants: 65\n"
     ]
    }
   ],
   "source": [
    "print(f\"Number of merchants: {df_not_na_email['account_id'].unique().shape[0]}\")"
   ]
  },
  {
   "cell_type": "markdown",
   "id": "707e4af6-6610-4974-864a-33259bf6c18d",
   "metadata": {},
   "source": [
    "Now let's look at number of contacting reasons per merchant"
   ]
  },
  {
   "cell_type": "code",
   "execution_count": 15,
   "id": "93138ea6-c18b-4234-af77-36cc589bb620",
   "metadata": {},
   "outputs": [
    {
     "name": "stderr",
     "output_type": "stream",
     "text": [
      "/var/folders/6t/_3m2dvt91tb684_7wx6bjw3m0000gn/T/ipykernel_59176/20092064.py:2: SettingWithCopyWarning: \n",
      "A value is trying to be set on a copy of a slice from a DataFrame.\n",
      "Try using .loc[row_indexer,col_indexer] = value instead\n",
      "\n",
      "See the caveats in the documentation: https://pandas.pydata.org/pandas-docs/stable/user_guide/indexing.html#returning-a-view-versus-a-copy\n",
      "  df_reasons['contact_reason'] = df_reason_values\n"
     ]
    }
   ],
   "source": [
    "df_reasons = df_not_na_email[['account_id', 'ticket_id', 'contact_reason']]\n",
    "df_reasons['contact_reason'] = df_reason_values"
   ]
  },
  {
   "cell_type": "code",
   "execution_count": 16,
   "id": "521d8c9b-7d8b-4a20-9070-df33baf03ee9",
   "metadata": {},
   "outputs": [],
   "source": [
    "unique_reasons_per_account = df_reasons[['account_id', 'contact_reason']].groupby('account_id').agg(lambda i: list(set(list(itertools.chain.from_iterable(i)))))\n",
    "unique_reasons_per_account['num_reasons'] = unique_reasons_per_account['contact_reason'].apply(len)\n",
    "unique_reasons_per_account.sort_values(by='num_reasons', ascending=False, inplace=True)"
   ]
  },
  {
   "cell_type": "code",
   "execution_count": 17,
   "id": "1b0bd197-0ced-4964-b2b7-f96d0ef83abe",
   "metadata": {},
   "outputs": [
    {
     "data": {
      "text/html": [
       "<div>\n",
       "<style scoped>\n",
       "    .dataframe tbody tr th:only-of-type {\n",
       "        vertical-align: middle;\n",
       "    }\n",
       "\n",
       "    .dataframe tbody tr th {\n",
       "        vertical-align: top;\n",
       "    }\n",
       "\n",
       "    .dataframe thead th {\n",
       "        text-align: right;\n",
       "    }\n",
       "</style>\n",
       "<table border=\"1\" class=\"dataframe\">\n",
       "  <thead>\n",
       "    <tr style=\"text-align: right;\">\n",
       "      <th></th>\n",
       "      <th>contact_reason</th>\n",
       "      <th>num_reasons</th>\n",
       "    </tr>\n",
       "    <tr>\n",
       "      <th>account_id</th>\n",
       "      <th></th>\n",
       "      <th></th>\n",
       "    </tr>\n",
       "  </thead>\n",
       "  <tbody>\n",
       "    <tr>\n",
       "      <th>74620</th>\n",
       "      <td>[complaint / negative experience, connectivity...</td>\n",
       "      <td>103</td>\n",
       "    </tr>\n",
       "    <tr>\n",
       "      <th>12167</th>\n",
       "      <td>[wismo, route, missing item, damaged, points s...</td>\n",
       "      <td>98</td>\n",
       "    </tr>\n",
       "    <tr>\n",
       "      <th>21590</th>\n",
       "      <td>[feedback &gt;&gt; negative, need help for items the...</td>\n",
       "      <td>90</td>\n",
       "    </tr>\n",
       "    <tr>\n",
       "      <th>23777</th>\n",
       "      <td>[marketing/press, email empty, change date, up...</td>\n",
       "      <td>90</td>\n",
       "    </tr>\n",
       "    <tr>\n",
       "      <th>32849</th>\n",
       "      <td>[buyback payment status, buyback process, prod...</td>\n",
       "      <td>88</td>\n",
       "    </tr>\n",
       "    <tr>\n",
       "      <th>4767</th>\n",
       "      <td>[shipping/tracking, donation request, purchasi...</td>\n",
       "      <td>86</td>\n",
       "    </tr>\n",
       "    <tr>\n",
       "      <th>63432</th>\n",
       "      <td>[wrong item received, order question, chargeba...</td>\n",
       "      <td>76</td>\n",
       "    </tr>\n",
       "    <tr>\n",
       "      <th>43345</th>\n",
       "      <td>[general policy inquiries, faulty stitching, c...</td>\n",
       "      <td>64</td>\n",
       "    </tr>\n",
       "    <tr>\n",
       "      <th>81813</th>\n",
       "      <td>[junk mail, non service email, address change,...</td>\n",
       "      <td>62</td>\n",
       "    </tr>\n",
       "    <tr>\n",
       "      <th>62537</th>\n",
       "      <td>[order status, awaiting test kit results, spra...</td>\n",
       "      <td>59</td>\n",
       "    </tr>\n",
       "  </tbody>\n",
       "</table>\n",
       "</div>"
      ],
      "text/plain": [
       "                                               contact_reason  num_reasons\n",
       "account_id                                                                \n",
       "74620       [complaint / negative experience, connectivity...          103\n",
       "12167       [wismo, route, missing item, damaged, points s...           98\n",
       "21590       [feedback >> negative, need help for items the...           90\n",
       "23777       [marketing/press, email empty, change date, up...           90\n",
       "32849       [buyback payment status, buyback process, prod...           88\n",
       "4767        [shipping/tracking, donation request, purchasi...           86\n",
       "63432       [wrong item received, order question, chargeba...           76\n",
       "43345       [general policy inquiries, faulty stitching, c...           64\n",
       "81813       [junk mail, non service email, address change,...           62\n",
       "62537       [order status, awaiting test kit results, spra...           59"
      ]
     },
     "execution_count": 17,
     "metadata": {},
     "output_type": "execute_result"
    }
   ],
   "source": [
    "unique_reasons_per_account.head(10)"
   ]
  },
  {
   "cell_type": "code",
   "execution_count": 18,
   "id": "38d89900-8b7b-4240-b449-7da12b2ddc99",
   "metadata": {},
   "outputs": [
    {
     "data": {
      "text/html": [
       "<div>\n",
       "<style scoped>\n",
       "    .dataframe tbody tr th:only-of-type {\n",
       "        vertical-align: middle;\n",
       "    }\n",
       "\n",
       "    .dataframe tbody tr th {\n",
       "        vertical-align: top;\n",
       "    }\n",
       "\n",
       "    .dataframe thead th {\n",
       "        text-align: right;\n",
       "    }\n",
       "</style>\n",
       "<table border=\"1\" class=\"dataframe\">\n",
       "  <thead>\n",
       "    <tr style=\"text-align: right;\">\n",
       "      <th></th>\n",
       "      <th>contact_reason</th>\n",
       "      <th>num_reasons</th>\n",
       "    </tr>\n",
       "    <tr>\n",
       "      <th>account_id</th>\n",
       "      <th></th>\n",
       "      <th></th>\n",
       "    </tr>\n",
       "  </thead>\n",
       "  <tbody>\n",
       "    <tr>\n",
       "      <th>73381</th>\n",
       "      <td>[shipping issue: incorrect quantity, order iss...</td>\n",
       "      <td>8</td>\n",
       "    </tr>\n",
       "    <tr>\n",
       "      <th>32461</th>\n",
       "      <td>[product question, shipping issue, quality con...</td>\n",
       "      <td>8</td>\n",
       "    </tr>\n",
       "    <tr>\n",
       "      <th>11539</th>\n",
       "      <td>[post-sales, pre-sales, partnership/ collabora...</td>\n",
       "      <td>5</td>\n",
       "    </tr>\n",
       "    <tr>\n",
       "      <th>61067</th>\n",
       "      <td>[partnership, order status, cancel order, miss...</td>\n",
       "      <td>4</td>\n",
       "    </tr>\n",
       "    <tr>\n",
       "      <th>57151</th>\n",
       "      <td>[power cuts after period, no mist, faulty, dif...</td>\n",
       "      <td>4</td>\n",
       "    </tr>\n",
       "    <tr>\n",
       "      <th>65133</th>\n",
       "      <td>[shipping, wismo, pre-sale]</td>\n",
       "      <td>3</td>\n",
       "    </tr>\n",
       "    <tr>\n",
       "      <th>66034</th>\n",
       "      <td>[general]</td>\n",
       "      <td>1</td>\n",
       "    </tr>\n",
       "    <tr>\n",
       "      <th>88465</th>\n",
       "      <td>[product inquiry]</td>\n",
       "      <td>1</td>\n",
       "    </tr>\n",
       "    <tr>\n",
       "      <th>88689</th>\n",
       "      <td>[shipping issue: delay]</td>\n",
       "      <td>1</td>\n",
       "    </tr>\n",
       "    <tr>\n",
       "      <th>29039</th>\n",
       "      <td>[problema con un prodotto]</td>\n",
       "      <td>1</td>\n",
       "    </tr>\n",
       "  </tbody>\n",
       "</table>\n",
       "</div>"
      ],
      "text/plain": [
       "                                               contact_reason  num_reasons\n",
       "account_id                                                                \n",
       "73381       [shipping issue: incorrect quantity, order iss...            8\n",
       "32461       [product question, shipping issue, quality con...            8\n",
       "11539       [post-sales, pre-sales, partnership/ collabora...            5\n",
       "61067       [partnership, order status, cancel order, miss...            4\n",
       "57151       [power cuts after period, no mist, faulty, dif...            4\n",
       "65133                             [shipping, wismo, pre-sale]            3\n",
       "66034                                               [general]            1\n",
       "88465                                       [product inquiry]            1\n",
       "88689                                 [shipping issue: delay]            1\n",
       "29039                              [problema con un prodotto]            1"
      ]
     },
     "execution_count": 18,
     "metadata": {},
     "output_type": "execute_result"
    }
   ],
   "source": [
    "unique_reasons_per_account.tail(10)"
   ]
  },
  {
   "cell_type": "markdown",
   "id": "55a2ff03-feeb-4477-8b4a-7fc6ab2a039b",
   "metadata": {},
   "source": [
    "We see that some merchants have a big number of contacting reasons (>50) while some have a small number (<10)."
   ]
  },
  {
   "cell_type": "code",
   "execution_count": 19,
   "id": "07361b0c-d06e-4890-b18a-b47a5bfa61ae",
   "metadata": {},
   "outputs": [
    {
     "name": "stdout",
     "output_type": "stream",
     "text": [
      "Total number of <merchant, reason> pairs: 2136\n"
     ]
    }
   ],
   "source": [
    "print(f\"Total number of <merchant, reason> pairs: {unique_reasons_per_account['num_reasons'].sum()}\")"
   ]
  },
  {
   "cell_type": "markdown",
   "id": "6d8b8b64-80c7-4664-9b02-824d72ec3ac4",
   "metadata": {},
   "source": [
    "As we saw previously there is 1455 unique reasons in the dataset. This means that merchants have many common contact reasons.\n",
    "\n",
    "The first conclusion: we should be able to benifit from detecting the common conctant reasons across merchants. This wokrs under the supposition that different mechants, when contacting with the same reason, get similar emails. "
   ]
  },
  {
   "cell_type": "markdown",
   "id": "30535d32-9050-4321-9799-11024ddd17b2",
   "metadata": {},
   "source": [
    "## Relation between tickets and contact_reason column\n",
    "\n",
    "Let's start with looking at number of contact reasons per ticket:"
   ]
  },
  {
   "cell_type": "code",
   "execution_count": 20,
   "id": "95f2f48f-93d0-476e-ace0-8525cfa0d172",
   "metadata": {},
   "outputs": [
    {
     "name": "stderr",
     "output_type": "stream",
     "text": [
      "/var/folders/6t/_3m2dvt91tb684_7wx6bjw3m0000gn/T/ipykernel_59176/2618387260.py:1: SettingWithCopyWarning: \n",
      "A value is trying to be set on a copy of a slice from a DataFrame.\n",
      "Try using .loc[row_indexer,col_indexer] = value instead\n",
      "\n",
      "See the caveats in the documentation: https://pandas.pydata.org/pandas-docs/stable/user_guide/indexing.html#returning-a-view-versus-a-copy\n",
      "  df_reasons['ticket_num_reasons'] = df_reasons['contact_reason'].apply(len)\n"
     ]
    },
    {
     "data": {
      "text/plain": [
       "ticket_num_reasons\n",
       "1    16667\n",
       "2    26995\n",
       "3     6549\n",
       "4      508\n",
       "Name: count, dtype: int64"
      ]
     },
     "execution_count": 20,
     "metadata": {},
     "output_type": "execute_result"
    }
   ],
   "source": [
    "df_reasons['ticket_num_reasons'] = df_reasons['contact_reason'].apply(len)\n",
    "df_reasons['ticket_num_reasons'].value_counts().sort_index()"
   ]
  },
  {
   "cell_type": "markdown",
   "id": "f3d08719-00b3-4367-9ac6-b16a45a6c144",
   "metadata": {},
   "source": [
    "We see that most tickets have 2 contact reasons and that the maximum number of reasons is 4."
   ]
  },
  {
   "cell_type": "code",
   "execution_count": 21,
   "id": "b85ad2b6-1074-4d66-a066-440d447dfb4e",
   "metadata": {},
   "outputs": [
    {
     "name": "stdout",
     "output_type": "stream",
     "text": [
      "Total number of contact reasons over all tickets: 92336\n"
     ]
    }
   ],
   "source": [
    "print(f\"Total number of contact reasons over all tickets: {df_reasons['ticket_num_reasons'].sum()}\")"
   ]
  },
  {
   "cell_type": "markdown",
   "id": "0568f630-4b5b-4f27-b1f8-30a08ca1f9f7",
   "metadata": {},
   "source": [
    "Let's now see how many tickets each reason has."
   ]
  },
  {
   "cell_type": "code",
   "execution_count": 22,
   "id": "a9ddd105-b9d1-45df-b17e-96e267f717a8",
   "metadata": {},
   "outputs": [],
   "source": [
    "rows_per_reason = df_reasons.loc[df_reasons.index.repeat(df_reasons['contact_reason'].apply(len))].drop('ticket_num_reasons', axis=1)\n",
    "rows_per_reason['contact_reason'] = list(itertools.chain.from_iterable(df_reasons['contact_reason'].values))\n",
    "reason_ticket_nums = rows_per_reason[\n",
    "    ['ticket_id', 'contact_reason']\n",
    "].groupby('contact_reason').count().sort_values('ticket_id', ascending=False).rename(columns={'ticket_id': 'num_tickets'})"
   ]
  },
  {
   "cell_type": "code",
   "execution_count": 23,
   "id": "fe94c4d7-e90e-44c4-8178-d2a0a8ca17f8",
   "metadata": {},
   "outputs": [
    {
     "data": {
      "text/html": [
       "<div>\n",
       "<style scoped>\n",
       "    .dataframe tbody tr th:only-of-type {\n",
       "        vertical-align: middle;\n",
       "    }\n",
       "\n",
       "    .dataframe tbody tr th {\n",
       "        vertical-align: top;\n",
       "    }\n",
       "\n",
       "    .dataframe thead th {\n",
       "        text-align: right;\n",
       "    }\n",
       "</style>\n",
       "<table border=\"1\" class=\"dataframe\">\n",
       "  <thead>\n",
       "    <tr style=\"text-align: right;\">\n",
       "      <th></th>\n",
       "      <th>num_tickets</th>\n",
       "    </tr>\n",
       "    <tr>\n",
       "      <th>contact_reason</th>\n",
       "      <th></th>\n",
       "    </tr>\n",
       "  </thead>\n",
       "  <tbody>\n",
       "    <tr>\n",
       "      <th>wismo</th>\n",
       "      <td>5216</td>\n",
       "    </tr>\n",
       "    <tr>\n",
       "      <th>other</th>\n",
       "      <td>4201</td>\n",
       "    </tr>\n",
       "    <tr>\n",
       "      <th>pdf</th>\n",
       "      <td>3744</td>\n",
       "    </tr>\n",
       "    <tr>\n",
       "      <th>return</th>\n",
       "      <td>2890</td>\n",
       "    </tr>\n",
       "    <tr>\n",
       "      <th>shipping</th>\n",
       "      <td>2204</td>\n",
       "    </tr>\n",
       "    <tr>\n",
       "      <th>post-purchase</th>\n",
       "      <td>2172</td>\n",
       "    </tr>\n",
       "    <tr>\n",
       "      <th>order</th>\n",
       "      <td>1942</td>\n",
       "    </tr>\n",
       "    <tr>\n",
       "      <th>spam</th>\n",
       "      <td>1809</td>\n",
       "    </tr>\n",
       "    <tr>\n",
       "      <th>poor on arrival</th>\n",
       "      <td>1703</td>\n",
       "    </tr>\n",
       "    <tr>\n",
       "      <th>not despatched</th>\n",
       "      <td>1580</td>\n",
       "    </tr>\n",
       "  </tbody>\n",
       "</table>\n",
       "</div>"
      ],
      "text/plain": [
       "                 num_tickets\n",
       "contact_reason              \n",
       "wismo                   5216\n",
       "other                   4201\n",
       "pdf                     3744\n",
       "return                  2890\n",
       "shipping                2204\n",
       "post-purchase           2172\n",
       "order                   1942\n",
       "spam                    1809\n",
       "poor on arrival         1703\n",
       "not despatched          1580"
      ]
     },
     "execution_count": 23,
     "metadata": {},
     "output_type": "execute_result"
    }
   ],
   "source": [
    "reason_ticket_nums.head(10)"
   ]
  },
  {
   "cell_type": "code",
   "execution_count": 24,
   "id": "faeb2625-1bd1-4b46-8160-8262f6c41e15",
   "metadata": {},
   "outputs": [
    {
     "data": {
      "text/html": [
       "<div>\n",
       "<style scoped>\n",
       "    .dataframe tbody tr th:only-of-type {\n",
       "        vertical-align: middle;\n",
       "    }\n",
       "\n",
       "    .dataframe tbody tr th {\n",
       "        vertical-align: top;\n",
       "    }\n",
       "\n",
       "    .dataframe thead th {\n",
       "        text-align: right;\n",
       "    }\n",
       "</style>\n",
       "<table border=\"1\" class=\"dataframe\">\n",
       "  <thead>\n",
       "    <tr style=\"text-align: right;\">\n",
       "      <th></th>\n",
       "      <th>num_tickets</th>\n",
       "    </tr>\n",
       "    <tr>\n",
       "      <th>contact_reason</th>\n",
       "      <th></th>\n",
       "    </tr>\n",
       "  </thead>\n",
       "  <tbody>\n",
       "    <tr>\n",
       "      <th>newbrand</th>\n",
       "      <td>1</td>\n",
       "    </tr>\n",
       "    <tr>\n",
       "      <th>new order welcome</th>\n",
       "      <td>1</td>\n",
       "    </tr>\n",
       "    <tr>\n",
       "      <th>new message</th>\n",
       "      <td>1</td>\n",
       "    </tr>\n",
       "    <tr>\n",
       "      <th>mysa monthly energy report</th>\n",
       "      <td>1</td>\n",
       "    </tr>\n",
       "    <tr>\n",
       "      <th>mto</th>\n",
       "      <td>1</td>\n",
       "    </tr>\n",
       "    <tr>\n",
       "      <th>missing/incomplete</th>\n",
       "      <td>1</td>\n",
       "    </tr>\n",
       "    <tr>\n",
       "      <th>missing pieces</th>\n",
       "      <td>1</td>\n",
       "    </tr>\n",
       "    <tr>\n",
       "      <th>missing info</th>\n",
       "      <td>1</td>\n",
       "    </tr>\n",
       "    <tr>\n",
       "      <th>missing gift note</th>\n",
       "      <td>1</td>\n",
       "    </tr>\n",
       "    <tr>\n",
       "      <th>youth competition queries/feedback</th>\n",
       "      <td>1</td>\n",
       "    </tr>\n",
       "  </tbody>\n",
       "</table>\n",
       "</div>"
      ],
      "text/plain": [
       "                                    num_tickets\n",
       "contact_reason                                 \n",
       "newbrand                                      1\n",
       "new order welcome                             1\n",
       "new message                                   1\n",
       "mysa monthly energy report                    1\n",
       "mto                                           1\n",
       "missing/incomplete                            1\n",
       "missing pieces                                1\n",
       "missing info                                  1\n",
       "missing gift note                             1\n",
       "youth competition queries/feedback            1"
      ]
     },
     "execution_count": 24,
     "metadata": {},
     "output_type": "execute_result"
    }
   ],
   "source": [
    "reason_ticket_nums.tail(10)"
   ]
  },
  {
   "cell_type": "code",
   "execution_count": 25,
   "id": "3abea318-db50-46f3-9345-0260478d2a53",
   "metadata": {},
   "outputs": [
    {
     "data": {
      "text/plain": [
       "<AxesSubplot:>"
      ]
     },
     "execution_count": 25,
     "metadata": {},
     "output_type": "execute_result"
    },
    {
     "data": {
      "image/png": "[encoded data removed]",
      "text/plain": [
       "<Figure size 432x288 with 1 Axes>"
      ]
     },
     "metadata": {
      "needs_background": "light"
     },
     "output_type": "display_data"
    }
   ],
   "source": [
    "reason_ticket_nums['num_tickets'].hist(bins=32)"
   ]
  },
  {
   "cell_type": "markdown",
   "id": "e6df907c-8a63-447d-9178-4d4b83de9b36",
   "metadata": {},
   "source": [
    "We see that there is a huge number of contacting reasons with very small numbers of tickets."
   ]
  },
  {
   "cell_type": "markdown",
   "id": "b8d31e9e-7dd1-4b7c-a0cd-305d5444111d",
   "metadata": {},
   "source": [
    "## Filter the contact reasons\n",
    "\n",
    "To detect a certain contact reason we need to first have a set of examples corresponding to it. We need to choose a threshold `N` of a minimal number of samples for a contact reason. \\\n",
    "This will be a number of tickets the client need to tag manually and provide as examples for the system.\n",
    "\n",
    "Note also that setting a theshold `N` for the number of tickets labeled with a contact reason does not mean that we will have `N` samples to learn the new contact reason, as the samples will need to be split into train and test, to evaluate and validate the model's ability to predict the contact reason.\n",
    "\n",
    "Let's see what part of contact reasons will be filtered off by different thersholds."
   ]
  },
  {
   "cell_type": "code",
   "execution_count": 26,
   "id": "dd4db287-c1fd-4500-acb3-ce99850da9d4",
   "metadata": {},
   "outputs": [
    {
     "name": "stdout",
     "output_type": "stream",
     "text": [
      "Total number of contact reasons over all tickets: 92336\n",
      "Let's consider contact reasons with at least 20 tickets. It leaves us 86983 contact reasons over all tickets, 94.203% of data\n",
      "Let's consider contact reasons with at least 30 tickets. It leaves us 84708 contact reasons over all tickets, 91.739% of data\n",
      "Let's consider contact reasons with at least 60 tickets. It leaves us 78916 contact reasons over all tickets, 85.466% of data\n",
      "Let's consider contact reasons with at least 120 tickets. It leaves us 71378 contact reasons over all tickets, 77.302% of data\n",
      "Let's consider contact reasons with at least 160 tickets. It leaves us 66347 contact reasons over all tickets, 71.854% of data\n"
     ]
    }
   ],
   "source": [
    "total_reasons_num = df_reasons['ticket_num_reasons'].sum()\n",
    "print(f\"Total number of contact reasons over all tickets: {total_reasons_num}\")\n",
    "for N in [20, 30, 60, 120, 160]:\n",
    "    filtered_reasons_num = reason_ticket_nums[reason_ticket_nums['num_tickets'] > N].values.sum()\n",
    "    print(f\"Let's consider contact reasons with at least {N} tickets. \" +\\\n",
    "          f\"It leaves us {filtered_reasons_num} contact reasons over all tickets, \" +\\\n",
    "          f\"{(filtered_reasons_num / total_reasons_num * 100):.3f}% of data\")"
   ]
  },
  {
   "cell_type": "markdown",
   "id": "48ed2446-eb03-462c-858e-c8f1b2315ac7",
   "metadata": {},
   "source": [
    "For the seek of simplicity let's set the thershold at `N=120`, with 100/20 train/test split or 100/10/10 train/test/val split depending on the model."
   ]
  },
  {
   "cell_type": "code",
   "execution_count": 27,
   "id": "b39e021d-866f-4350-b5d8-20bab13351b3",
   "metadata": {},
   "outputs": [
    {
     "name": "stdout",
     "output_type": "stream",
     "text": [
      "Number of contact reasons with at least 120 tickets: 142.\n"
     ]
    }
   ],
   "source": [
    "N = 120\n",
    "print(f\"Number of contact reasons with at least {N} tickets: {reason_ticket_nums[reason_ticket_nums['num_tickets'] >= 120].shape[0]}.\")"
   ]
  },
  {
   "cell_type": "markdown",
   "id": "435665b2-fb17-459f-a7d7-38a8690ff35c",
   "metadata": {},
   "source": [
    "From one side we see that among 1568 contact reasons only 142 has sufficient number of tickets, but at the same time the remaining reasons cover >77% of dataset. \\\n",
    "The decision on how many tickets we can require a client to label manually should be confirmed with the product team. Current threshold is set for simplicity of the project. \n",
    "\n",
    "Let's filter the dataset to keep only the remaining contact reasons. Let's call them \"common reasons\"."
   ]
  },
  {
   "cell_type": "code",
   "execution_count": 28,
   "id": "54851b33-007f-49d2-a893-22bd447c46d9",
   "metadata": {},
   "outputs": [],
   "source": [
    "contact_reasons_to_keep = set(reason_ticket_nums[reason_ticket_nums['num_tickets'] >= N].index)"
   ]
  },
  {
   "cell_type": "code",
   "execution_count": 29,
   "id": "d78c3691-12e9-43c6-9c3e-bdb7e0814ddc",
   "metadata": {},
   "outputs": [
    {
     "name": "stdout",
     "output_type": "stream",
     "text": [
      "List of reasons to keep:\n",
      "address | advice | after-sales | aftersales | amazon | amazon notification | apply promo | auto response | bad | bedding | brink's | broken | buy | cancel | cancel order | cancel request | cancellation | change | change address | change date | change order | customer | cx initiated | damage/defect | damaged | defect | delay order | delivered | delivered not received | delivery issue | delivery status | dhl | discount | distribution | edit | evri | exchange request | external channel | failed after planting | faulty | feedback | flow message | flowered incorrectly | fulfillment | full order | general | general inquiry | general inquiry on order status | general product info/inquiry | good | how to return/exchange? | how-to | i don't want a subscription | in pick | influencer | item | judge.me | junk mail | lost in transit | misc | missed call | missing item | n/a | no action req | no longer needed | no reason | no response needed (triage) | no-reply | non service email | not despatched | not working | nothing naughty | nr | on the way | order | order amend | order confirmation/vat receipt | order inquiry | order issue | order query | order status | order support | other | others | parts | payment notification | payment/refund question | paypal cancel | pdf | plant & advise | po submission | poor on arrival | post-purchase | post-shipped | pre-sale | pre-sales | presale | problem | product | product info | product information | product issue | product question | purchasing | qa | query | question | questions | refund | return | return request | return&exchange | return/exchange | returns | returns- how to return | rewards | sales support | sales_query | shipping | shipping issue | spam | spam/blank/auto replies | spam/non-suppport | store message | subscription | swap product | system | tech supp | tech_query | technical support | too much | tracking | update customer information | update personal information | usage updates | usps | warranty | where is my order? | wholesale | wismo | within warranty | wrong item\n"
     ]
    }
   ],
   "source": [
    "print('List of reasons to keep:')\n",
    "print(*sorted(list(contact_reasons_to_keep)), sep=' | ')"
   ]
  },
  {
   "cell_type": "markdown",
   "id": "19ccbf80-81d8-4a0a-8dba-e4040a9c961f",
   "metadata": {},
   "source": [
    "In the beginning of data exploration we applied a simple lambda fucntion to extract contact reasons from initail string. \n",
    "Some better target preprocessing and cleaning would help improve the results. \\\n",
    "For example we have multiple contact reasons related to Return topic. \\\n",
    "Such details leave space for improvements."
   ]
  },
  {
   "cell_type": "code",
   "execution_count": 30,
   "id": "51ea20d4-5bfd-4f75-a8df-46bd45c867e5",
   "metadata": {},
   "outputs": [
    {
     "name": "stderr",
     "output_type": "stream",
     "text": [
      "/var/folders/6t/_3m2dvt91tb684_7wx6bjw3m0000gn/T/ipykernel_59176/1344229444.py:1: SettingWithCopyWarning: \n",
      "A value is trying to be set on a copy of a slice from a DataFrame.\n",
      "Try using .loc[row_indexer,col_indexer] = value instead\n",
      "\n",
      "See the caveats in the documentation: https://pandas.pydata.org/pandas-docs/stable/user_guide/indexing.html#returning-a-view-versus-a-copy\n",
      "  df_reasons['contact_reason'] = df_reasons['contact_reason'].apply(lambda reasons: list(filter(lambda i: i in contact_reasons_to_keep, reasons)))\n",
      "/var/folders/6t/_3m2dvt91tb684_7wx6bjw3m0000gn/T/ipykernel_59176/1344229444.py:2: SettingWithCopyWarning: \n",
      "A value is trying to be set on a copy of a slice from a DataFrame.\n",
      "Try using .loc[row_indexer,col_indexer] = value instead\n",
      "\n",
      "See the caveats in the documentation: https://pandas.pydata.org/pandas-docs/stable/user_guide/indexing.html#returning-a-view-versus-a-copy\n",
      "  df_reasons['ticket_num_reasons'] = df_reasons['contact_reason'].apply(len)\n"
     ]
    }
   ],
   "source": [
    "df_reasons['contact_reason'] = df_reasons['contact_reason'].apply(lambda reasons: list(filter(lambda i: i in contact_reasons_to_keep, reasons)))\n",
    "df_reasons['ticket_num_reasons'] = df_reasons['contact_reason'].apply(len)"
   ]
  },
  {
   "cell_type": "code",
   "execution_count": 31,
   "id": "a644a81e-3394-4a28-a06e-0b60ed51340c",
   "metadata": {},
   "outputs": [],
   "source": [
    "df_reasons = df_reasons[df_reasons['ticket_num_reasons'] > 0]"
   ]
  },
  {
   "cell_type": "code",
   "execution_count": 32,
   "id": "e7a77d27-174d-4510-a4e4-615bc4e47e3b",
   "metadata": {},
   "outputs": [
    {
     "data": {
      "text/html": [
       "<div>\n",
       "<style scoped>\n",
       "    .dataframe tbody tr th:only-of-type {\n",
       "        vertical-align: middle;\n",
       "    }\n",
       "\n",
       "    .dataframe tbody tr th {\n",
       "        vertical-align: top;\n",
       "    }\n",
       "\n",
       "    .dataframe thead th {\n",
       "        text-align: right;\n",
       "    }\n",
       "</style>\n",
       "<table border=\"1\" class=\"dataframe\">\n",
       "  <thead>\n",
       "    <tr style=\"text-align: right;\">\n",
       "      <th></th>\n",
       "      <th>account_id</th>\n",
       "      <th>ticket_id</th>\n",
       "      <th>contact_reason</th>\n",
       "      <th>ticket_num_reasons</th>\n",
       "    </tr>\n",
       "  </thead>\n",
       "  <tbody>\n",
       "    <tr>\n",
       "      <th>45</th>\n",
       "      <td>80311</td>\n",
       "      <td>45131168</td>\n",
       "      <td>[order, change]</td>\n",
       "      <td>2</td>\n",
       "    </tr>\n",
       "    <tr>\n",
       "      <th>46</th>\n",
       "      <td>80311</td>\n",
       "      <td>45551309</td>\n",
       "      <td>[subscription, cancel]</td>\n",
       "      <td>2</td>\n",
       "    </tr>\n",
       "    <tr>\n",
       "      <th>47</th>\n",
       "      <td>80311</td>\n",
       "      <td>45044401</td>\n",
       "      <td>[other]</td>\n",
       "      <td>1</td>\n",
       "    </tr>\n",
       "    <tr>\n",
       "      <th>48</th>\n",
       "      <td>80311</td>\n",
       "      <td>45478754</td>\n",
       "      <td>[subscription, cancel]</td>\n",
       "      <td>2</td>\n",
       "    </tr>\n",
       "    <tr>\n",
       "      <th>52</th>\n",
       "      <td>80311</td>\n",
       "      <td>44989985</td>\n",
       "      <td>[subscription, change]</td>\n",
       "      <td>2</td>\n",
       "    </tr>\n",
       "    <tr>\n",
       "      <th>...</th>\n",
       "      <td>...</td>\n",
       "      <td>...</td>\n",
       "      <td>...</td>\n",
       "      <td>...</td>\n",
       "    </tr>\n",
       "    <tr>\n",
       "      <th>56166</th>\n",
       "      <td>47355</td>\n",
       "      <td>97624993</td>\n",
       "      <td>[shipping]</td>\n",
       "      <td>1</td>\n",
       "    </tr>\n",
       "    <tr>\n",
       "      <th>56167</th>\n",
       "      <td>47355</td>\n",
       "      <td>97704266</td>\n",
       "      <td>[pre-sale]</td>\n",
       "      <td>1</td>\n",
       "    </tr>\n",
       "    <tr>\n",
       "      <th>56168</th>\n",
       "      <td>47355</td>\n",
       "      <td>97104492</td>\n",
       "      <td>[no action req, others]</td>\n",
       "      <td>2</td>\n",
       "    </tr>\n",
       "    <tr>\n",
       "      <th>56170</th>\n",
       "      <td>47355</td>\n",
       "      <td>98375668</td>\n",
       "      <td>[tech supp, tech_query]</td>\n",
       "      <td>2</td>\n",
       "    </tr>\n",
       "    <tr>\n",
       "      <th>56171</th>\n",
       "      <td>47355</td>\n",
       "      <td>98834917</td>\n",
       "      <td>[shipping, tracking]</td>\n",
       "      <td>2</td>\n",
       "    </tr>\n",
       "  </tbody>\n",
       "</table>\n",
       "<p>43827 rows × 4 columns</p>\n",
       "</div>"
      ],
      "text/plain": [
       "      account_id ticket_id           contact_reason  ticket_num_reasons\n",
       "45         80311  45131168          [order, change]                   2\n",
       "46         80311  45551309   [subscription, cancel]                   2\n",
       "47         80311  45044401                  [other]                   1\n",
       "48         80311  45478754   [subscription, cancel]                   2\n",
       "52         80311  44989985   [subscription, change]                   2\n",
       "...          ...       ...                      ...                 ...\n",
       "56166      47355  97624993               [shipping]                   1\n",
       "56167      47355  97704266               [pre-sale]                   1\n",
       "56168      47355  97104492  [no action req, others]                   2\n",
       "56170      47355  98375668  [tech supp, tech_query]                   2\n",
       "56171      47355  98834917     [shipping, tracking]                   2\n",
       "\n",
       "[43827 rows x 4 columns]"
      ]
     },
     "execution_count": 32,
     "metadata": {},
     "output_type": "execute_result"
    }
   ],
   "source": [
    "df_reasons"
   ]
  },
  {
   "cell_type": "code",
   "execution_count": 33,
   "id": "f4b1d93a-642e-420c-b5f1-2a5451649b57",
   "metadata": {},
   "outputs": [
    {
     "name": "stdout",
     "output_type": "stream",
     "text": [
      "Number of remaining tickets: 43827\n"
     ]
    }
   ],
   "source": [
    "print(f\"Number of remaining tickets: {df_reasons.shape[0]}\")"
   ]
  },
  {
   "cell_type": "markdown",
   "id": "e47effeb-a689-40ea-964a-1d7c5323479a",
   "metadata": {},
   "source": [
    "Let's see new discribution of number of contact_reason per ticket:"
   ]
  },
  {
   "cell_type": "code",
   "execution_count": 34,
   "id": "cbdec3a4-cf29-4235-a987-02cccacccf25",
   "metadata": {},
   "outputs": [
    {
     "data": {
      "text/plain": [
       "ticket_num_reasons\n",
       "1    20075\n",
       "2    19844\n",
       "3     3897\n",
       "4       11\n",
       "Name: count, dtype: int64"
      ]
     },
     "execution_count": 34,
     "metadata": {},
     "output_type": "execute_result"
    }
   ],
   "source": [
    "df_reasons['ticket_num_reasons'].value_counts()"
   ]
  },
  {
   "cell_type": "markdown",
   "id": "435b5930-b850-4755-b958-5711dcfb8641",
   "metadata": {},
   "source": [
    "We see that most tickets have one or two \"common reasons\". For example we previously had 508 tickets with 4 contact reasons and now have only 11 remaining.\n",
    "\n",
    "Let's filter the initial dataset and merge the established list of reasons with it."
   ]
  },
  {
   "cell_type": "code",
   "execution_count": 35,
   "id": "c1685e6e-f7b6-4692-98a0-a7dc71195720",
   "metadata": {},
   "outputs": [],
   "source": [
    "df_filtered_reasons = df_not_na_email.merge(\n",
    "    df_reasons[['ticket_id', 'contact_reason']].rename(columns={'contact_reason': 'contact_reason_list'}),\n",
    "    on='ticket_id',\n",
    ")"
   ]
  },
  {
   "cell_type": "code",
   "execution_count": 36,
   "id": "4fb18ee8-9881-4ca7-9dfd-53f80b6ccea0",
   "metadata": {},
   "outputs": [
    {
     "data": {
      "text/html": [
       "<div>\n",
       "<style scoped>\n",
       "    .dataframe tbody tr th:only-of-type {\n",
       "        vertical-align: middle;\n",
       "    }\n",
       "\n",
       "    .dataframe tbody tr th {\n",
       "        vertical-align: top;\n",
       "    }\n",
       "\n",
       "    .dataframe thead th {\n",
       "        text-align: right;\n",
       "    }\n",
       "</style>\n",
       "<table border=\"1\" class=\"dataframe\">\n",
       "  <thead>\n",
       "    <tr style=\"text-align: right;\">\n",
       "      <th></th>\n",
       "      <th>account_id</th>\n",
       "      <th>ticket_id</th>\n",
       "      <th>raw_body</th>\n",
       "      <th>channel</th>\n",
       "      <th>unix_timestamp</th>\n",
       "      <th>contact_reason</th>\n",
       "      <th>processed_body</th>\n",
       "      <th>email_sentence_embeddings</th>\n",
       "      <th>contact_reason_list</th>\n",
       "    </tr>\n",
       "  </thead>\n",
       "  <tbody>\n",
       "    <tr>\n",
       "      <th>0</th>\n",
       "      <td>80311</td>\n",
       "      <td>45131168</td>\n",
       "      <td>-5884644156744074825</td>\n",
       "      <td>email</td>\n",
       "      <td>1.681774e+09</td>\n",
       "      <td>\"Order::Change\"</td>\n",
       "      <td>1732438362151338096</td>\n",
       "      <td>{\"5387678962028210963\": [-0.04114712402224541,...</td>\n",
       "      <td>[order, change]</td>\n",
       "    </tr>\n",
       "    <tr>\n",
       "      <th>1</th>\n",
       "      <td>80311</td>\n",
       "      <td>45551309</td>\n",
       "      <td>-4294432842482702815</td>\n",
       "      <td>email</td>\n",
       "      <td>1.682296e+09</td>\n",
       "      <td>\"Subscription::Cancel\"</td>\n",
       "      <td>-5400864571409029668</td>\n",
       "      <td>{\"-1977157216125332294\": [-0.05636805668473244...</td>\n",
       "      <td>[subscription, cancel]</td>\n",
       "    </tr>\n",
       "    <tr>\n",
       "      <th>2</th>\n",
       "      <td>80311</td>\n",
       "      <td>45044401</td>\n",
       "      <td>2943689785615335697</td>\n",
       "      <td>email</td>\n",
       "      <td>1.681778e+09</td>\n",
       "      <td>\"Enquiry::Other\"</td>\n",
       "      <td>-1452375270520089086</td>\n",
       "      <td>{\"2637470613962742155\": [0.008398737758398056,...</td>\n",
       "      <td>[other]</td>\n",
       "    </tr>\n",
       "    <tr>\n",
       "      <th>3</th>\n",
       "      <td>80311</td>\n",
       "      <td>45478754</td>\n",
       "      <td>705588070554333293</td>\n",
       "      <td>email</td>\n",
       "      <td>1.682298e+09</td>\n",
       "      <td>\"Subscription::Cancel\"</td>\n",
       "      <td>-4566971772993378483</td>\n",
       "      <td>{\"783548933148700380\": [-0.06277057528495789, ...</td>\n",
       "      <td>[subscription, cancel]</td>\n",
       "    </tr>\n",
       "    <tr>\n",
       "      <th>4</th>\n",
       "      <td>80311</td>\n",
       "      <td>44989985</td>\n",
       "      <td>4879981609995365933</td>\n",
       "      <td>email</td>\n",
       "      <td>1.681715e+09</td>\n",
       "      <td>\"Subscription::Change\"</td>\n",
       "      <td>8960480514003645278</td>\n",
       "      <td>{\"5933577246519141163\": [-0.0773773044347763, ...</td>\n",
       "      <td>[subscription, change]</td>\n",
       "    </tr>\n",
       "    <tr>\n",
       "      <th>...</th>\n",
       "      <td>...</td>\n",
       "      <td>...</td>\n",
       "      <td>...</td>\n",
       "      <td>...</td>\n",
       "      <td>...</td>\n",
       "      <td>...</td>\n",
       "      <td>...</td>\n",
       "      <td>...</td>\n",
       "      <td>...</td>\n",
       "    </tr>\n",
       "    <tr>\n",
       "      <th>43822</th>\n",
       "      <td>47355</td>\n",
       "      <td>97624993</td>\n",
       "      <td>5849206612916929119</td>\n",
       "      <td>email</td>\n",
       "      <td>1.683674e+09</td>\n",
       "      <td>\"Shipping::Delay\"</td>\n",
       "      <td>5295849438602763231</td>\n",
       "      <td>{\"8804421217849952019\": [-0.03063122369349003,...</td>\n",
       "      <td>[shipping]</td>\n",
       "    </tr>\n",
       "    <tr>\n",
       "      <th>43823</th>\n",
       "      <td>47355</td>\n",
       "      <td>97704266</td>\n",
       "      <td>-7329393197999221857</td>\n",
       "      <td>email</td>\n",
       "      <td>1.683747e+09</td>\n",
       "      <td>\"Pre-sale::Place an order\"</td>\n",
       "      <td>7769862566240229096</td>\n",
       "      <td>{\"7076610397638084948\": [0.04829759523272514, ...</td>\n",
       "      <td>[pre-sale]</td>\n",
       "    </tr>\n",
       "    <tr>\n",
       "      <th>43824</th>\n",
       "      <td>47355</td>\n",
       "      <td>97104492</td>\n",
       "      <td>-712526401448959206</td>\n",
       "      <td>email</td>\n",
       "      <td>1.683821e+09</td>\n",
       "      <td>\"No Action Req::Others\"</td>\n",
       "      <td>8225526187121867386</td>\n",
       "      <td>{\"-4707052099692602634\": [0.04418250918388367,...</td>\n",
       "      <td>[no action req, others]</td>\n",
       "    </tr>\n",
       "    <tr>\n",
       "      <th>43825</th>\n",
       "      <td>47355</td>\n",
       "      <td>98375668</td>\n",
       "      <td>8956876459394868202</td>\n",
       "      <td>email</td>\n",
       "      <td>1.684164e+09</td>\n",
       "      <td>\"Tech Supp::Tech_Query\"</td>\n",
       "      <td>4884952985295307657</td>\n",
       "      <td>{\"-6790423425691970518\": [-0.10473562777042389...</td>\n",
       "      <td>[tech supp, tech_query]</td>\n",
       "    </tr>\n",
       "    <tr>\n",
       "      <th>43826</th>\n",
       "      <td>47355</td>\n",
       "      <td>98834917</td>\n",
       "      <td>3230166170796936168</td>\n",
       "      <td>email</td>\n",
       "      <td>1.684271e+09</td>\n",
       "      <td>\"Shipping::Tracking\"</td>\n",
       "      <td>1023372247625818182</td>\n",
       "      <td>{\"1824102601729972162\": [-0.02185063622891903,...</td>\n",
       "      <td>[shipping, tracking]</td>\n",
       "    </tr>\n",
       "  </tbody>\n",
       "</table>\n",
       "<p>43827 rows × 9 columns</p>\n",
       "</div>"
      ],
      "text/plain": [
       "      account_id ticket_id             raw_body channel  unix_timestamp   \n",
       "0          80311  45131168 -5884644156744074825   email    1.681774e+09  \\\n",
       "1          80311  45551309 -4294432842482702815   email    1.682296e+09   \n",
       "2          80311  45044401  2943689785615335697   email    1.681778e+09   \n",
       "3          80311  45478754   705588070554333293   email    1.682298e+09   \n",
       "4          80311  44989985  4879981609995365933   email    1.681715e+09   \n",
       "...          ...       ...                  ...     ...             ...   \n",
       "43822      47355  97624993  5849206612916929119   email    1.683674e+09   \n",
       "43823      47355  97704266 -7329393197999221857   email    1.683747e+09   \n",
       "43824      47355  97104492  -712526401448959206   email    1.683821e+09   \n",
       "43825      47355  98375668  8956876459394868202   email    1.684164e+09   \n",
       "43826      47355  98834917  3230166170796936168   email    1.684271e+09   \n",
       "\n",
       "                   contact_reason       processed_body   \n",
       "0                 \"Order::Change\"  1732438362151338096  \\\n",
       "1          \"Subscription::Cancel\" -5400864571409029668   \n",
       "2                \"Enquiry::Other\" -1452375270520089086   \n",
       "3          \"Subscription::Cancel\" -4566971772993378483   \n",
       "4          \"Subscription::Change\"  8960480514003645278   \n",
       "...                           ...                  ...   \n",
       "43822           \"Shipping::Delay\"  5295849438602763231   \n",
       "43823  \"Pre-sale::Place an order\"  7769862566240229096   \n",
       "43824     \"No Action Req::Others\"  8225526187121867386   \n",
       "43825     \"Tech Supp::Tech_Query\"  4884952985295307657   \n",
       "43826        \"Shipping::Tracking\"  1023372247625818182   \n",
       "\n",
       "                               email_sentence_embeddings   \n",
       "0      {\"5387678962028210963\": [-0.04114712402224541,...  \\\n",
       "1      {\"-1977157216125332294\": [-0.05636805668473244...   \n",
       "2      {\"2637470613962742155\": [0.008398737758398056,...   \n",
       "3      {\"783548933148700380\": [-0.06277057528495789, ...   \n",
       "4      {\"5933577246519141163\": [-0.0773773044347763, ...   \n",
       "...                                                  ...   \n",
       "43822  {\"8804421217849952019\": [-0.03063122369349003,...   \n",
       "43823  {\"7076610397638084948\": [0.04829759523272514, ...   \n",
       "43824  {\"-4707052099692602634\": [0.04418250918388367,...   \n",
       "43825  {\"-6790423425691970518\": [-0.10473562777042389...   \n",
       "43826  {\"1824102601729972162\": [-0.02185063622891903,...   \n",
       "\n",
       "           contact_reason_list  \n",
       "0              [order, change]  \n",
       "1       [subscription, cancel]  \n",
       "2                      [other]  \n",
       "3       [subscription, cancel]  \n",
       "4       [subscription, change]  \n",
       "...                        ...  \n",
       "43822               [shipping]  \n",
       "43823               [pre-sale]  \n",
       "43824  [no action req, others]  \n",
       "43825  [tech supp, tech_query]  \n",
       "43826     [shipping, tracking]  \n",
       "\n",
       "[43827 rows x 9 columns]"
      ]
     },
     "execution_count": 36,
     "metadata": {},
     "output_type": "execute_result"
    }
   ],
   "source": [
    "df_filtered_reasons"
   ]
  },
  {
   "cell_type": "markdown",
   "id": "c2e3780e-7c7c-497a-a5aa-8d1e272c1efa",
   "metadata": {},
   "source": [
    "# First look at sentence embeddings\n",
    "\n",
    "Let's see how many sentences the tickets have."
   ]
  },
  {
   "cell_type": "code",
   "execution_count": 37,
   "id": "b8d78ee8-c42b-4643-9b21-2de1467d7115",
   "metadata": {},
   "outputs": [],
   "source": [
    "filtered_ticket_message_list = TicketMessage.from_dataframe(dataframe=df_filtered_reasons)"
   ]
  },
  {
   "cell_type": "code",
   "execution_count": 38,
   "id": "2df4a1e2-b1b8-4c5e-b33b-ccf862e6a524",
   "metadata": {},
   "outputs": [],
   "source": [
    "df_filtered_reasons['email_len'] = [len(i.email_sentence_embeddings) for i in filtered_ticket_message_list]"
   ]
  },
  {
   "cell_type": "code",
   "execution_count": 39,
   "id": "7f510264-93b0-4248-96b5-dea4adfb6e01",
   "metadata": {},
   "outputs": [],
   "source": [
    "email_lengths = df_filtered_reasons.email_len.value_counts().sort_index()"
   ]
  },
  {
   "cell_type": "code",
   "execution_count": 40,
   "id": "b140adcd-5c1a-4238-8faa-ee008d2421e3",
   "metadata": {},
   "outputs": [
    {
     "data": {
      "text/plain": [
       "email_len\n",
       "1     24500\n",
       "2     10307\n",
       "3      3792\n",
       "4      1426\n",
       "5      1147\n",
       "6       513\n",
       "7       357\n",
       "8       194\n",
       "9       386\n",
       "10      136\n",
       "Name: count, dtype: int64"
      ]
     },
     "execution_count": 40,
     "metadata": {},
     "output_type": "execute_result"
    }
   ],
   "source": [
    "email_lengths.head(10)"
   ]
  },
  {
   "cell_type": "code",
   "execution_count": 41,
   "id": "07a68ec7-86a2-4168-bea5-fa049886a01b",
   "metadata": {},
   "outputs": [
    {
     "data": {
      "text/plain": [
       "email_len\n",
       "145    1\n",
       "156    1\n",
       "160    1\n",
       "175    1\n",
       "193    1\n",
       "196    1\n",
       "210    1\n",
       "217    1\n",
       "218    1\n",
       "225    1\n",
       "Name: count, dtype: int64"
      ]
     },
     "execution_count": 41,
     "metadata": {},
     "output_type": "execute_result"
    }
   ],
   "source": [
    "email_lengths.tail(10)"
   ]
  },
  {
   "cell_type": "markdown",
   "id": "79ec4123-f7f0-407e-98f9-2df8aa3f60f7",
   "metadata": {},
   "source": [
    "We see that most of the emails have a small number of sentences (<=5), while a small number of emails can have up to 200 sentences.\n",
    "\n",
    "For the simplicity of the task let us limit ourselves to only considering short emails.\n",
    "\n",
    "While automatic tagging of long emails is can bring better gains for the final system, it would also require more time for development."
   ]
  },
  {
   "cell_type": "code",
   "execution_count": 42,
   "id": "b125c160-b724-4f61-aea0-49d8644c9035",
   "metadata": {},
   "outputs": [
    {
     "data": {
      "text/plain": [
       "41172"
      ]
     },
     "execution_count": 42,
     "metadata": {},
     "output_type": "execute_result"
    }
   ],
   "source": [
    "email_lengths.head(5).sum()"
   ]
  },
  {
   "cell_type": "code",
   "execution_count": 43,
   "id": "da526b5e-d9e4-47c2-95f2-1533dd687513",
   "metadata": {},
   "outputs": [
    {
     "name": "stdout",
     "output_type": "stream",
     "text": [
      "Keeping emails with no more then 5 sentences leaves us 41172 emails, 93.942% of filtered dataset.\n"
     ]
    }
   ],
   "source": [
    "N_len = 5\n",
    "number_of_remaining_emails = email_lengths.head(N_len).sum()\n",
    "print(f\"Keeping emails with no more then {N_len} sentences leaves us {number_of_remaining_emails} emails, {(number_of_remaining_emails / df_reasons.shape[0] * 100):.3f}% of filtered dataset.\")"
   ]
  },
  {
   "cell_type": "code",
   "execution_count": 44,
   "id": "688b2add-02d5-4df4-a915-7aa3e5f0e362",
   "metadata": {},
   "outputs": [],
   "source": [
    "df_filtered_reasons_and_emails = df_filtered_reasons[df_filtered_reasons['email_len']<=N_len]"
   ]
  },
  {
   "cell_type": "code",
   "execution_count": 45,
   "id": "8a60610c-da3a-47f7-bda6-4f700d92d145",
   "metadata": {},
   "outputs": [
    {
     "name": "stdout",
     "output_type": "stream",
     "text": [
      "Final number of kept tickets: 41172, 73.296% of initial number.\n"
     ]
    }
   ],
   "source": [
    "initial_num_samples = df.shape[0]\n",
    "final_num_samples = df_filtered_reasons_and_emails.shape[0]\n",
    "print(f\"Final number of kept tickets: {final_num_samples}, {(final_num_samples / initial_num_samples * 100):.3f}% of initial number.\")"
   ]
  },
  {
   "cell_type": "code",
   "execution_count": 46,
   "id": "06099112-dc7e-4fd8-8e32-1f3ec633c763",
   "metadata": {},
   "outputs": [],
   "source": [
    "df_filtered_reasons_and_emails.to_parquet(\"data/classification_dataset_filtered\", index=False)"
   ]
  },
  {
   "cell_type": "markdown",
   "id": "d6d3586a-38f9-4b27-85c6-d104fa4d64dc",
   "metadata": {},
   "source": [
    "This concludes the data exploration part.\n",
    "\n",
    "Now we have a dataset where:\n",
    "- the contact reasons in consideration have at least 120 tickets,\n",
    "- emails have no more then 5 sentences.\n",
    "\n",
    "The ideas regarding the model training:\n",
    "1. Train/test split: we will be splitting the data into train/test per contact reason to assure that training set has enough examples of each target.\n",
    "2. For emails with one sentence the sentence should reflect all of the contact reasons from the ticket.\n",
    "3. For emails with multiple sentences the following approaches can be considered:\n",
    "   - aggregating sentence embeddings into an email embedding using a ML model (for example RNN). Although this approach can bring better results it is highly time and resource consuming. As the embeddings produced by all-MiniLM-L6-v2 model contain well-compressed information, and in our case we do not have a huge amount of data which is also sparse in target space (41k embeddings for 142 targets), we will not be considering this apprach as part of this case study,\n",
    "   - average embedding as an embedding of complete email (not good),\n",
    "   - use every sentence embedding independently to predict the contact reason. This should work under the assumption that in the email for each contact reason there is a sentence describing it. \n",
    "4. In the same was as advanced DNN models produce data embeddings on the model's last layer that then used for class prediction using linear transformation, we will be using the sentence embeddings. Therefore we will try different classic ML models for target prediction using sentence embeddings as input.\n",
    "5. To train decision-making models we will need to sample negative samples for each target.\n",
    "6. Having >100 samples for each target should be enough to train a classic ML model such as SVM Classifier/Linear Regression/Random Forest, while it would be hard to train a neural-net based model with such a small number of training examples.  "
   ]
  }
 ],
 "metadata": {
  "kernelspec": {
   "display_name": "Python 3 (ipykernel)",
   "language": "python",
   "name": "python3"
  },
  "language_info": {
   "codemirror_mode": {
    "name": "ipython",
    "version": 3
   },
   "file_extension": ".py",
   "mimetype": "text/x-python",
   "name": "python",
   "nbconvert_exporter": "python",
   "pygments_lexer": "ipython3",
   "version": "3.9.5"
  }
 },
 "nbformat": 4,
 "nbformat_minor": 5
}
